{
 "cells": [
  {
   "cell_type": "markdown",
   "metadata": {},
   "source": [
    "### Modelling Spread of Diseases using Agent Based Modelling\n",
    "\n",
    "In this project, the aim is to model the spread of diseases across individuals over time, accounting for the movement of individuals across a grid space. The set up is as follows:\n",
    "\n",
    "Agent: Individual (location, infected, transmission rate, recovery rate, vacc status) The transmission rate dependent on vacc status and recovery rate is dependent on the strength of the disease, which factors their values up or down given strength, \n",
    "Potential other things to add: immunity after infection.\n",
    "\n",
    "Disease (Strength) and also another factor of minimum recovery timestep, which is the minimum amount of time steps before any recovery (using the recovery rate) can be taken.\n",
    "\n",
    "Environment: Consists of 10 different nodes/locations, where each node is has a 50x50 grid space, where agents can be at (agent.location)\n",
    "\n",
    "Location Rules:\n",
    "\n",
    "1. An agent can choose one of three choices, stay where they are, move to another grid space within the node, or move to another grid space at another node\n",
    "2. Agents can move freely from one node to any other at one timestep, no hinderances besides capacity in 3.\n",
    "3. If the grid space is already occupied by an agent, randomly select another space in the node, otherwise if all taken, randomly select another node and grid space.\n",
    "\n",
    "Infection Rules:\n",
    "\n",
    "1. An agent can be infected at a timestep if they are within a 5x5 grid space of an infected individual, dependent on their transmission rate.\n",
    "2. The probability of the agent recovering from the infection depends on the recovery rate.\n",
    "3. An individual that is infected has should not move from their location\n",
    "\n",
    "Parameters to collect:\n",
    "\n",
    "- Percentage of infected at each timestep for each node\n",
    "- Percentage of infected by vacc status\n",
    "- Average infections per population in node"
   ]
  },
  {
   "cell_type": "markdown",
   "metadata": {},
   "source": [
    "## Creating the Agent Class"
   ]
  },
  {
   "cell_type": "code",
   "execution_count": 2,
   "metadata": {},
   "outputs": [],
   "source": [
    "import numpy as np"
   ]
  },
  {
   "cell_type": "code",
   "execution_count": 1,
   "metadata": {},
   "outputs": [],
   "source": [
    "class Human():\n",
    "    def __init__(self, infected, transmission_rate, recovery_rate, vaccine):\n",
    "        self.infected = infected\n",
    "        self.transmission_rate = transmission_rate\n",
    "        self.recovery_rate = recovery_rate\n",
    "        self.vaccine = vaccine\n",
    "\n",
    "    def choose_newlocation(self):\n",
    "        if self.infected:\n",
    "            return 'move'"
   ]
  },
  {
   "cell_type": "code",
   "execution_count": 8,
   "metadata": {},
   "outputs": [],
   "source": [
    "# generate a list of humans, with random values for each attribute\n",
    "\n",
    "#hyperparameters to play\n",
    "infection_rate = 0.1\n",
    "vacc_rate = 0.5\n",
    "n_humans = 100\n",
    "\n",
    "humans = []\n",
    "for i in range(n_humans):\n",
    "    # infected 10% of population\n",
    "    infected = np.random.random() < infection_rate\n",
    "    transmission_rate = np.random.random()\n",
    "    recovery_rate = np.random.random()\n",
    "    vaccine = np.random.random() < vacc_rate\n",
    "    humans.append(Human(infected, transmission_rate, recovery_rate, vaccine))\n",
    "    "
   ]
  },
  {
   "cell_type": "code",
   "execution_count": 13,
   "metadata": {},
   "outputs": [
    {
     "data": {
      "text/plain": [
       "True"
      ]
     },
     "execution_count": 13,
     "metadata": {},
     "output_type": "execute_result"
    }
   ],
   "source": []
  }
 ],
 "metadata": {
  "kernelspec": {
   "display_name": "Python 3",
   "language": "python",
   "name": "python3"
  },
  "language_info": {
   "codemirror_mode": {
    "name": "ipython",
    "version": 3
   },
   "file_extension": ".py",
   "mimetype": "text/x-python",
   "name": "python",
   "nbconvert_exporter": "python",
   "pygments_lexer": "ipython3",
   "version": "3.11.4"
  },
  "orig_nbformat": 4
 },
 "nbformat": 4,
 "nbformat_minor": 2
}
