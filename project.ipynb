{
 "cells": [
  {
   "cell_type": "markdown",
   "metadata": {},
   "source": [
    "### Modelling Spread of Diseases using Agent Based Modelling\n",
    "\n",
    "In this project, the aim is to model the spread of diseases across individuals over time, accounting for the movement of individuals across a grid space. The set up is as follows:\n",
    "\n",
    "Agent: Individual (location, infected, transmission rate, recovery rate, vacc status) The transmission rate dependent on vacc status and recovery rate is dependent on the strength of the disease, which factors their values up or down given strength, \n",
    "Potential other things to add: immunity after infection.\n",
    "\n",
    "Disease (Strength) and also another factor of minimum recovery timestep, which is the minimum amount of time steps before any recovery (using the recovery rate) can be taken.\n",
    "\n",
    "Environment: Consists of 10 different nodes/locations, where each node is has a 50x50 grid space, where agents can be at (agent.location)\n",
    "\n",
    "Location Rules:\n",
    "\n",
    "1. An agent can choose one of three choices, stay where they are, move to another grid space within the node, or move to another grid space at another node\n",
    "2. Agents can move freely from one node to any other at one timestep, no hinderances besides capacity in 3.\n",
    "3. If the grid space is already occupied by an agent, randomly select another space in the node, otherwise if all taken, randomly select another node and grid space.\n",
    "\n",
    "Infection Rules:\n",
    "\n",
    "1. An agent can be infected at a timestep if they are within a 5x5 grid space of an infected individual, dependent on their transmission rate.\n",
    "2. The probability of the agent recovering from the infection depends on the recovery rate.\n",
    "3. An individual that is infected has should not move from their location\n",
    "\n",
    "Parameters to collect:\n",
    "\n",
    "- Percentage of infected at each timestep for each node\n",
    "- Percentage of infected by vacc status\n",
    "- Average infections per population in node\n",
    "\n",
    "Things to consider:\n",
    "- Deaths (Death Rate Probability - Dependent on vaccs, and also immunity)\n",
    "- Try one city first, if works then expand. \n",
    "- 3 parameters to determine movement of individual across grid space."
   ]
  },
  {
   "cell_type": "code",
   "execution_count": 219,
   "metadata": {},
   "outputs": [],
   "source": [
    "import numpy as np\n",
    "import matplotlib.pyplot as plt\n",
    "from matplotlib.colors import ListedColormap, BoundaryNorm\n",
    "from scipy.signal import correlate2d\n",
    "\n",
    "cmap = ListedColormap(['white', 'grey', 'red', 'blue'])\n",
    "norm = BoundaryNorm([0, 1, 2, 3, 4], cmap.N)"
   ]
  },
  {
   "cell_type": "markdown",
   "metadata": {},
   "source": [
    "## Creating the Agent Class"
   ]
  },
  {
   "cell_type": "code",
   "execution_count": 383,
   "metadata": {},
   "outputs": [],
   "source": [
    "#hyperparameters to tune\n",
    "infection_rate = 0.1 # percentage of people infected\n",
    "vacc_rate = 0.5 # percentage of people vaccinated\n",
    "n_humans = 500\n",
    "grid_space = 50\n",
    "n_nodes = 10\n",
    "steps = 100\n",
    "scan_space = 5\n",
    "movement_prob = [0.1, 0.5, 0.4]\n",
    "min_infect_days = 2"
   ]
  },
  {
   "cell_type": "code",
   "execution_count": 384,
   "metadata": {},
   "outputs": [],
   "source": [
    "class Human():\n",
    "    def __init__(self):\n",
    "        self.infected = np.random.random() < infection_rate\n",
    "        self.transmission_rate = np.random.random()\n",
    "        self.recovery_rate = np.random.random() < vacc_rate\n",
    "        self.vaccine = np.random.random() < vacc_rate\n",
    "        self.infected_time = 0\n",
    "\n",
    "    '''Choose a new location to move to based on random probability'''\n",
    "    def choose_newlocation(self):\n",
    "        if self.infected: # stay at location\n",
    "            self.decision = 0\n",
    "        else: # make choice to move to a new location or stay\n",
    "            # using a dirichlet distribution, which is distribution over vectors of probabilities that sum to 1\n",
    "            random_moveto = np.random.dirichlet(np.ones(2), size=1)[0]\n",
    "            self.decision = np.argmax(random_moveto)\n",
    "        return self.decision"
   ]
  },
  {
   "cell_type": "markdown",
   "metadata": {},
   "source": [
    "## Creating the Environment Grid Space of Suburb\n",
    "\n",
    "This is just for one city, another class City (to contain 10 Suburbs)"
   ]
  },
  {
   "cell_type": "code",
   "execution_count": 391,
   "metadata": {},
   "outputs": [],
   "source": [
    "class Suburb():\n",
    "    # create a 50x50 grid space\n",
    "    def __init__(self):\n",
    "        self.grid = np.zeros((grid_space,grid_space))\n",
    "        self.humans = []\n",
    "\n",
    "    '''Populates the grid space with humans, initial configuration'''\n",
    "    def populate(self, n_humans):\n",
    "        # randomly place humans around in the grid, 1 person per grid space\n",
    "        self.humans = [Human() for i in range(n_humans)]\n",
    "        for human in self.humans:\n",
    "            x = np.random.randint(0,grid_space)\n",
    "            y = np.random.randint(0,grid_space)\n",
    "            # check if the grid space is already occupied\n",
    "            while self.grid[x,y] != 0:\n",
    "                x = np.random.randint(0,grid_space)\n",
    "                y = np.random.randint(0,grid_space)\n",
    "            if human.infected:\n",
    "                self.grid[x,y] = 2 # if infected\n",
    "            else:\n",
    "                self.grid[x,y] = 1 # if not infected\n",
    "            human.location = (x,y) # save location of human\n",
    "    \n",
    "    '''checks the grid space around each human to find number of infected people''' \n",
    "    def scan(self, human):\n",
    "        # find neighbours of human\n",
    "        x, y = human.location[0], human.location[1]\n",
    "        #neighbours = []\n",
    "        # set boundary constraints\n",
    "        x_min = max(0, x-scan_space)\n",
    "        x_max = min(grid_space-1, x+scan_space)\n",
    "        y_min = max(0, y-scan_space)\n",
    "        y_max = min(grid_space-1, y+scan_space)\n",
    "        neighbours = self.grid[x_min:x_max+1, y_min:y_max+1]\n",
    "        infected = np.sum(neighbours == 2)\n",
    "        if human.infected:\n",
    "            return(infected - 1)\n",
    "        else:\n",
    "            return(infected)\n",
    "            \n",
    "        "
   ]
  },
  {
   "cell_type": "code",
   "execution_count": 392,
   "metadata": {},
   "outputs": [],
   "source": [
    "sub = Suburb()\n",
    "sub.populate(n_humans) # number of humans in the city cannot be greater than the number of grid spaces (50x50)"
   ]
  },
  {
   "cell_type": "code",
   "execution_count": 393,
   "metadata": {},
   "outputs": [
    {
     "name": "stdout",
     "output_type": "stream",
     "text": [
      "False (8, 41)\n",
      "0\n",
      "True (32, 36)\n",
      "0\n",
      "False (25, 16)\n",
      "1\n",
      "False (16, 46)\n",
      "1\n",
      "False (9, 20)\n",
      "0\n"
     ]
    }
   ],
   "source": [
    "# test case of whether the new location is chosen well. \n",
    "for i in sub.humans[5:10]:\n",
    "    print(i.infected, i.location)\n",
    "    i.choose_newlocation()\n",
    "    print(i.decision)\n"
   ]
  },
  {
   "cell_type": "code",
   "execution_count": 394,
   "metadata": {},
   "outputs": [
    {
     "name": "stdout",
     "output_type": "stream",
     "text": [
      "(34, 19)\n",
      "3\n",
      "(42, 21)\n",
      "3\n",
      "(37, 22)\n",
      "4\n",
      "(17, 24)\n",
      "4\n",
      "(42, 24)\n",
      "1\n"
     ]
    }
   ],
   "source": [
    "# randomly select 5 humans to test:\n",
    "for i in range(5):\n",
    "    human = sub.humans[np.random.randint(0, len(sub.humans))]\n",
    "    print(human.location)\n",
    "    print(sub.scan(human))"
   ]
  },
  {
   "cell_type": "code",
   "execution_count": 395,
   "metadata": {},
   "outputs": [
    {
     "name": "stdout",
     "output_type": "stream",
     "text": [
      "(24, 15)\n",
      "0\n"
     ]
    },
    {
     "data": {
      "image/png": "[encoded data removed]",
      "text/plain": [
       "<Figure size 640x480 with 1 Axes>"
      ]
     },
     "metadata": {},
     "output_type": "display_data"
    }
   ],
   "source": [
    "# check if the neighbours are being found correctly\n",
    "def check_grid_infect():\n",
    "    human = sub.humans[np.random.randint(0, len(sub.humans))]\n",
    "    hx, hy = human.location[0], human.location[1]\n",
    "    print(human.location)\n",
    "    print(sub.scan(human))\n",
    "    init = sub.grid[hx,hy] \n",
    "    sub.grid[hx,hy] = 4\n",
    "    plt.imshow(sub.grid, cmap=cmap, norm=norm, interpolation='nearest', alpha=0.7)\n",
    "    plt.show()\n",
    "    sub.grid[hx,hy] = init\n",
    "\n",
    "check_grid_infect()"
   ]
  },
  {
   "cell_type": "code",
   "execution_count": 372,
   "metadata": {},
   "outputs": [
    {
     "data": {
      "image/png": "[encoded data removed]",
      "text/plain": [
       "<Figure size 640x480 with 1 Axes>"
      ]
     },
     "metadata": {},
     "output_type": "display_data"
    }
   ],
   "source": [
    "\n",
    "plt.imshow(sub.grid, cmap=cmap, norm=norm, interpolation='nearest', alpha=0.7)\n",
    "plt.show()"
   ]
  },
  {
   "cell_type": "code",
   "execution_count": 218,
   "metadata": {},
   "outputs": [
    {
     "data": {
      "text/plain": [
       "0.094"
      ]
     },
     "execution_count": 218,
     "metadata": {},
     "output_type": "execute_result"
    }
   ],
   "source": [
    "# check if the number of infected people is around 10% of the population\n",
    "np.sum(v.grid == 2)/n_humans"
   ]
  },
  {
   "cell_type": "code",
   "execution_count": 227,
   "metadata": {},
   "outputs": [
    {
     "data": {
      "text/plain": [
       "array([[2., 2., 4., ..., 5., 4., 4.],\n",
       "       [6., 5., 6., ..., 3., 5., 6.],\n",
       "       [6., 5., 6., ..., 3., 4., 5.],\n",
       "       ...,\n",
       "       [4., 4., 5., ..., 5., 4., 5.],\n",
       "       [3., 2., 4., ..., 5., 4., 4.],\n",
       "       [2., 2., 4., ..., 5., 4., 4.]])"
      ]
     },
     "execution_count": 227,
     "metadata": {},
     "output_type": "execute_result"
    }
   ],
   "source": [
    "grid = np.array([\n",
    "    [0, 0, 0, 0, 0, 0, 0, 0],\n",
    "    [0, 0, 0, 0, 0, 0, 0, 0],\n",
    "    [0, 0, 0, 1, 0, 0, 0, 0],\n",
    "    [0, 0, 0, 0, 0, 0, 0, 0],\n",
    "    [0, 0, 0, 0, 0, 0, 0, 0],\n",
    "    [0, 0, 0, 0, 0, 0, 0, 0],\n",
    "    [0, 0, 0, 0, 0, 0, 0, 0],\n",
    "    [0, 0, 0, 0, 0, 0, 0, 0]\n",
    "])\n",
    "\n",
    "# Define a 5x5 window (kernel) for correlation\n",
    "kernel = np.ones((scan_space, scan_space))\n",
    "\n",
    "result = correlate2d(v.grid, kernel, mode='same', boundary='wrap')\n",
    "result"
   ]
  }
 ],
 "metadata": {
  "kernelspec": {
   "display_name": "Python 3",
   "language": "python",
   "name": "python3"
  },
  "language_info": {
   "codemirror_mode": {
    "name": "ipython",
    "version": 3
   },
   "file_extension": ".py",
   "mimetype": "text/x-python",
   "name": "python",
   "nbconvert_exporter": "python",
   "pygments_lexer": "ipython3",
   "version": "3.11.4"
  },
  "orig_nbformat": 4
 },
 "nbformat": 4,
 "nbformat_minor": 2
}
