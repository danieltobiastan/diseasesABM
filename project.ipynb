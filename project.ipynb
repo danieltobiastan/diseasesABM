{
 "cells": [
  {
   "cell_type": "markdown",
   "metadata": {},
   "source": [
    "### Modelling Spread of Diseases using Agent Based Modelling\n",
    "\n",
    "In this project, the aim is to model the spread of diseases across individuals over time, accounting for the movement of individuals across a grid space. The set up is as follows:\n",
    "\n",
    "Agent: Individual (location, infected, transmission rate, recovery rate, vacc status) The transmission rate dependent on vacc status and recovery rate is dependent on the strength of the disease, which factors their values up or down given strength, \n",
    "Potential other things to add: immunity after infection.\n",
    "\n",
    "Disease (Strength) and also another factor of minimum recovery timestep, which is the minimum amount of time steps before any recovery (using the recovery rate) can be taken.\n",
    "\n",
    "Environment: Consists of 10 different nodes/locations, where each node is has a 50x50 grid space, where agents can be at (agent.location)\n",
    "\n",
    "Location Rules:\n",
    "\n",
    "1. An agent can choose one of three choices, stay where they are, move to another grid space within the node, or move to another grid space at another node\n",
    "2. Agents can move freely from one node to any other at one timestep, no hinderances besides capacity in 3.\n",
    "3. If the grid space is already occupied by an agent, randomly select another space in the node, otherwise if all taken, randomly select another node and grid space.\n",
    "\n",
    "Infection Rules:\n",
    "\n",
    "1. An agent can be infected at a timestep if they are within a 5x5 grid space of an infected individual, dependent on their transmission rate.\n",
    "2. The probability of the agent recovering from the infection depends on the recovery rate.\n",
    "3. An individual that is infected has should not move from their location\n",
    "\n",
    "Parameters to collect:\n",
    "\n",
    "- Percentage of infected at each timestep for each node\n",
    "- Percentage of infected by vacc status\n",
    "- Average infections per population in node\n",
    "\n",
    "Things to consider:\n",
    "- Deaths (Death Rate Probability - Dependent on vaccs, and also immunity)\n",
    "- Try one city first, if works then expand. \n",
    "- 3 parameters to determine movement of individual across grid space."
   ]
  },
  {
   "cell_type": "code",
   "execution_count": 1,
   "metadata": {},
   "outputs": [],
   "source": [
    "import numpy as np\n",
    "import matplotlib.pyplot as plt\n",
    "from matplotlib.colors import ListedColormap, BoundaryNorm\n",
    "from scipy.signal import correlate2d\n",
    "\n",
    "cmap = ListedColormap(['white', 'grey', 'red', 'blue'])\n",
    "norm = BoundaryNorm([0, 1, 2, 3, 4], cmap.N)"
   ]
  },
  {
   "cell_type": "markdown",
   "metadata": {},
   "source": [
    "## Creating the Agent Class"
   ]
  },
  {
   "cell_type": "code",
   "execution_count": 103,
   "metadata": {},
   "outputs": [],
   "source": [
    "#hyperparameters to tune\n",
    "infection_rate = 0.3 # percentage of people infected\n",
    "vacc_rate = 0.5 # percentage of people vaccinated\n",
    "n_humans = 500\n",
    "grid_space = 50\n",
    "n_nodes = 10\n",
    "steps = 100\n",
    "scan_space = 3\n",
    "movement_prob = [0.1, 0.5, 0.4]\n",
    "min_infect_days = 2\n",
    "multiplier_factor = 1.2 \n",
    "vaccine_multiplier = 0.5 # can be used to increase or decrease the effectiveness of the vaccine\n",
    "immunity_multiplier = 0.5 # can be used to increase or decrease the effectiveness of the vaccine\n",
    "vaccine_randomness = 0.05 # can be used to increase or decrease the randomness of the vaccine\n",
    "immunity_randomness = 0.05 # can be used to increase or decrease the randomness of the vaccine"
   ]
  },
  {
   "cell_type": "code",
   "execution_count": 163,
   "metadata": {},
   "outputs": [],
   "source": [
    "class Human():\n",
    "    def __init__(self):\n",
    "        self.infected = np.random.random() < infection_rate\n",
    "        self.transmission_rate = np.random.random() # getting infected chance\n",
    "        self.recovery_rate = np.random.random() \n",
    "        self.vaccine = np.random.random() < vacc_rate\n",
    "        self.infected_time = 0\n",
    "        self.immunity = False # if infected and recovered, then immune = True\n",
    "\n",
    "    '''Choose a new location to move to based on random probability'''\n",
    "    def choose_newlocation(self):\n",
    "        if self.infected: # stay at location\n",
    "            self.decision = 0\n",
    "        else: # make choice to move to a new location or stay\n",
    "            # using a dirichlet distribution, which is distribution over vectors of probabilities that sum to 1 (2 for now, will up to 3 when create cities)\n",
    "            random_moveto = np.random.dirichlet(np.ones(2), size=1)\n",
    "            self.decision = np.argmax(random_moveto)\n",
    "        return self.decision\n",
    "    \n",
    "    def recovery(self): # run at each step\n",
    "        chance_recovery = np.random.random() #move down later\n",
    "        if self.infected:\n",
    "            if self.infected_time > min_infect_days:\n",
    "                if self.vaccine:\n",
    "                    vaccine_multiplier_self = np.random.normal(vaccine_multiplier, vaccine_randomness) # introduce randomness to vaccine for human\n",
    "                    chance_recovery = chance_recovery * vaccine_multiplier_self\n",
    "                if self.immunity:\n",
    "                    immunity_multiplier_self = np.random.normal(immunity_multiplier, immunity_randomness) # introduce randomness to immunity for human\n",
    "                    chance_recovery = chance_recovery * immunity_multiplier_self\n",
    "                if chance_recovery < self.recovery_rate: # recovered\n",
    "                    self.infected = False\n",
    "                    self.immunity = True\n",
    "                    self.infected_time = 0\n",
    "                else:  # not recovered\n",
    "                    self.infected_time += 1\n",
    "            else:\n",
    "                self.infected_time += 1\n",
    "        else:\n",
    "            pass\n",
    "        return self.infected, self.immunity, self.infected_time, chance_recovery\n",
    "    \n",
    "    def infect(self, n_infected): # run at each step\n",
    "        chance_infection = np.random.random() #move down later, just for checking\n",
    "        # account for more infected people, more chance of infection\n",
    "        adjusted_chance_infection = chance_infection * (multiplier_factor ** (n_infected - 1))\n",
    "        adjusted_chance_infection = min(adjusted_chance_infection, 1)\n",
    "        if self.infected:\n",
    "            pass\n",
    "        else: # not infected\n",
    "            if n_infected > 0:\n",
    "                if self.vaccine:\n",
    "                    vaccine_multiplier_self = np.random.normal(vaccine_multiplier, vaccine_randomness)\n",
    "                    adjusted_chance_infection = adjusted_chance_infection * vaccine_multiplier_self\n",
    "                if self.immunity:\n",
    "                    immunity_multiplier_self = np.random.normal(immunity_multiplier, immunity_randomness)\n",
    "                    adjusted_chance_infection = adjusted_chance_infection * immunity_multiplier_self\n",
    "                if adjusted_chance_infection > self.transmission_rate:\n",
    "                    self.infected = True\n",
    "                    self.infected_time = 0\n",
    "        return n_infected, self.infected, self.transmission_rate, adjusted_chance_infection, chance_infection"
   ]
  },
  {
   "cell_type": "markdown",
   "metadata": {},
   "source": [
    "## Creating the Environment Grid Space of Suburb\n",
    "\n",
    "This is just for one city, another class City (to contain 10 Suburbs)"
   ]
  },
  {
   "cell_type": "code",
   "execution_count": 74,
   "metadata": {},
   "outputs": [],
   "source": [
    "class Suburb():\n",
    "    # create a 50x50 grid space\n",
    "    def __init__(self):\n",
    "        self.grid = np.zeros((grid_space,grid_space))\n",
    "        self.humans = []\n",
    "\n",
    "    '''Populates the grid space with humans, initial configuration'''\n",
    "    def populate(self, n_humans):\n",
    "        # randomly place humans around in the grid, 1 person per grid space\n",
    "        self.humans = [Human() for i in range(n_humans)]\n",
    "        for human in self.humans:\n",
    "            x = np.random.randint(0,grid_space)\n",
    "            y = np.random.randint(0,grid_space)\n",
    "            # check if the grid space is already occupied\n",
    "            while self.grid[x,y] != 0:\n",
    "                x = np.random.randint(0,grid_space)\n",
    "                y = np.random.randint(0,grid_space)\n",
    "            if human.infected:\n",
    "                self.grid[x,y] = 2 # if infected\n",
    "            else:\n",
    "                self.grid[x,y] = 1 # if not infected\n",
    "            human.location = (x,y) # save location of human\n",
    "    \n",
    "    '''checks the grid space around each human to find number of infected people''' \n",
    "    def scan(self, human):\n",
    "        # find neighbours of human\n",
    "        x, y = human.location[0], human.location[1]\n",
    "        #neighbours = []\n",
    "        # set boundary constraints\n",
    "        x_min = max(0, x-scan_space)\n",
    "        x_max = min(grid_space-1, x+scan_space)\n",
    "        y_min = max(0, y-scan_space)\n",
    "        y_max = min(grid_space-1, y+scan_space)\n",
    "        neighbours = self.grid[x_min:x_max+1, y_min:y_max+1]\n",
    "        infected = np.sum(neighbours == 2)\n",
    "        if human.infected:\n",
    "            return(infected - 1) #number of infected humans around the human\n",
    "        else:\n",
    "            return(infected) #number of infected humans around the human\n",
    "                \n",
    "\n",
    "        "
   ]
  },
  {
   "cell_type": "code",
   "execution_count": 164,
   "metadata": {},
   "outputs": [],
   "source": [
    "sub = Suburb()\n",
    "sub.populate(n_humans) # number of humans in the city cannot be greater than the number of grid spaces (50x50)"
   ]
  },
  {
   "cell_type": "code",
   "execution_count": 165,
   "metadata": {},
   "outputs": [
    {
     "name": "stdout",
     "output_type": "stream",
     "text": [
      "True (22, 36)\n",
      "Check Movment:  0\n",
      "Infected Neighbours:  3\n",
      "If Infected:  True\n",
      "Immunity:  False\n",
      "Vaccine:  True\n",
      "Inf Time:  0\n",
      "Recovery and trans rate:  0.9544606963498936 0.1023497388943001\n",
      "---------------------------\n",
      "True (9, 28)\n",
      "Check Movment:  0\n",
      "Infected Neighbours:  5\n",
      "If Infected:  True\n",
      "Immunity:  False\n",
      "Vaccine:  True\n",
      "Inf Time:  0\n",
      "Recovery and trans rate:  0.8119929085466274 0.22673563316888368\n",
      "---------------------------\n",
      "False (2, 6)\n",
      "Check Movment:  1\n",
      "Infected Neighbours:  2\n",
      "If Infected:  False\n",
      "Immunity:  False\n",
      "Vaccine:  False\n",
      "Inf Time:  0\n",
      "Recovery and trans rate:  0.8680822380696245 0.6374088771106671\n",
      "---------------------------\n",
      "True (26, 45)\n",
      "Check Movment:  0\n",
      "Infected Neighbours:  0\n",
      "If Infected:  True\n",
      "Immunity:  False\n",
      "Vaccine:  True\n",
      "Inf Time:  0\n",
      "Recovery and trans rate:  0.612325532964018 0.6794898250887084\n",
      "---------------------------\n",
      "True (10, 40)\n",
      "Check Movment:  0\n",
      "Infected Neighbours:  2\n",
      "If Infected:  True\n",
      "Immunity:  False\n",
      "Vaccine:  False\n",
      "Inf Time:  0\n",
      "Recovery and trans rate:  0.28215699740683853 0.24655180341681004\n",
      "---------------------------\n"
     ]
    }
   ],
   "source": [
    "# test case of whether the new location is chosen well. \n",
    "for i in sub.humans[5:10]:\n",
    "    print(i.infected, i.location)\n",
    "    check= i.choose_newlocation()\n",
    "    print('Check Movment: ', check)\n",
    "    print('Infected Neighbours: ', sub.scan(i))\n",
    "    print('If Infected: ', i.infected)\n",
    "    print('Immunity: ', i.immunity)\n",
    "    print('Vaccine: ', i.vaccine)\n",
    "    print('Inf Time: ', i.infected_time)\n",
    "    print('Recovery and trans rate: ', i.recovery_rate, i.transmission_rate)\n",
    "    print('---------------------------')"
   ]
  },
  {
   "cell_type": "code",
   "execution_count": 166,
   "metadata": {},
   "outputs": [
    {
     "name": "stdout",
     "output_type": "stream",
     "text": [
      "Infected:  False\n",
      "Immunity:  False\n",
      "Inf Time:  0\n",
      "Chance Recovery:  0.904789445935067\n",
      "Infected:  False\n",
      "Immunity:  False\n",
      "Inf Time:  0\n",
      "Chance Recovery:  0.3083464972791843\n",
      "Infected:  True\n",
      "Immunity:  False\n",
      "Inf Time:  1\n",
      "Chance Recovery:  0.7245223898194668\n",
      "Infected:  False\n",
      "Immunity:  False\n",
      "Inf Time:  0\n",
      "Chance Recovery:  0.7571203718028463\n",
      "Infected:  False\n",
      "Immunity:  False\n",
      "Inf Time:  0\n",
      "Chance Recovery:  0.448223557888795\n",
      "Infected:  True\n",
      "Immunity:  False\n",
      "Inf Time:  1\n",
      "Chance Recovery:  0.21073451023921352\n",
      "Infected:  False\n",
      "Immunity:  False\n",
      "Inf Time:  0\n",
      "Chance Recovery:  0.8355167378494194\n",
      "Infected:  False\n",
      "Immunity:  False\n",
      "Inf Time:  0\n",
      "Chance Recovery:  0.4384529154271394\n",
      "Infected:  False\n",
      "Immunity:  False\n",
      "Inf Time:  0\n",
      "Chance Recovery:  0.40417161788066913\n",
      "Infected:  False\n",
      "Immunity:  False\n",
      "Inf Time:  0\n",
      "Chance Recovery:  0.8069586895160286\n"
     ]
    }
   ],
   "source": [
    "for i in sub.humans[10:20]:\n",
    "    infected, immunity, infected_time, chance_recovery = i.recovery()\n",
    "    print('Infected: ', infected)\n",
    "    print('Immunity: ', immunity)\n",
    "    print('Inf Time: ', infected_time)\n",
    "    print('Chance Recovery: ', chance_recovery)"
   ]
  },
  {
   "cell_type": "code",
   "execution_count": 167,
   "metadata": {},
   "outputs": [
    {
     "name": "stdout",
     "output_type": "stream",
     "text": [
      "Infected:  False\n",
      "Transmission Rate:  0.6419572563914935\n",
      "Adjusted Chance Infection:  0.5046322929790036\n",
      "Chance Infection:  0.7243905011841429\n",
      "Number Infected:  3\n",
      "---------------------------\n",
      "Infected:  True\n",
      "Transmission Rate:  0.3684506812966958\n",
      "Adjusted Chance Infection:  0.9179305534798659\n",
      "Chance Infection:  0.7649421278998882\n",
      "Number Infected:  2\n",
      "---------------------------\n",
      "Infected:  True\n",
      "Transmission Rate:  0.05999551377020551\n",
      "Adjusted Chance Infection:  0.9527470413686482\n",
      "Chance Infection:  0.661629889839339\n",
      "Number Infected:  3\n",
      "---------------------------\n",
      "Infected:  False\n",
      "Transmission Rate:  0.9445229996324008\n",
      "Adjusted Chance Infection:  0.5856015140478157\n",
      "Chance Infection:  0.9743399637071546\n",
      "Number Infected:  1\n",
      "---------------------------\n",
      "Infected:  True\n",
      "Transmission Rate:  0.7260078973756361\n",
      "Adjusted Chance Infection:  0.8583958772327817\n",
      "Chance Infection:  0.7153298976939847\n",
      "Number Infected:  2\n",
      "---------------------------\n",
      "Infected:  True\n",
      "Transmission Rate:  0.33146458928335465\n",
      "Adjusted Chance Infection:  0.7508116370312342\n",
      "Chance Infection:  0.6256763641926952\n",
      "Number Infected:  2\n",
      "---------------------------\n",
      "Infected:  True\n",
      "Transmission Rate:  0.6471179197587593\n",
      "Adjusted Chance Infection:  1\n",
      "Chance Infection:  0.9978548733041197\n",
      "Number Infected:  4\n",
      "---------------------------\n",
      "Infected:  False\n",
      "Transmission Rate:  0.09103031851343746\n",
      "Adjusted Chance Infection:  0.07697763229246048\n",
      "Chance Infection:  0.07717602390792877\n",
      "Number Infected:  5\n",
      "---------------------------\n",
      "Infected:  True\n",
      "Transmission Rate:  0.18794682484416048\n",
      "Adjusted Chance Infection:  0.7697422924735757\n",
      "Chance Infection:  0.7697422924735757\n",
      "Number Infected:  1\n",
      "---------------------------\n",
      "Infected:  False\n",
      "Transmission Rate:  0.9170894661852227\n",
      "Adjusted Chance Infection:  0.3449977402728399\n",
      "Chance Infection:  0.23958176407836107\n",
      "Number Infected:  3\n",
      "---------------------------\n"
     ]
    }
   ],
   "source": [
    "# test the infect function\n",
    "for i in sub.humans[10:20]:\n",
    "    n_inf, infected, transmission_rate, adjusted_chance_infection, chance_infection = i.infect(sub.scan(i))\n",
    "    print('Infected: ', infected)\n",
    "    print('Transmission Rate: ', transmission_rate)\n",
    "    print('Adjusted Chance Infection: ', adjusted_chance_infection)\n",
    "    print('Chance Infection: ', chance_infection)\n",
    "    print('Number Infected: ', n_inf)\n",
    "    print('---------------------------')"
   ]
  },
  {
   "cell_type": "code",
   "execution_count": 15,
   "metadata": {},
   "outputs": [
    {
     "name": "stdout",
     "output_type": "stream",
     "text": [
      "(39, 38)\n",
      "1\n",
      "(29, 33)\n",
      "1\n",
      "(34, 5)\n",
      "0\n",
      "(24, 24)\n",
      "0\n",
      "(17, 40)\n",
      "1\n"
     ]
    }
   ],
   "source": [
    "# randomly select 5 humans to test:\n",
    "for i in range(5):\n",
    "    human = sub.humans[np.random.randint(0, len(sub.humans))]\n",
    "    print(human.location)\n",
    "    print(sub.scan(human))"
   ]
  },
  {
   "cell_type": "code",
   "execution_count": 29,
   "metadata": {},
   "outputs": [
    {
     "name": "stdout",
     "output_type": "stream",
     "text": [
      "(8, 25)\n",
      "0\n"
     ]
    },
    {
     "data": {
      "image/png": "[encoded data removed]",
      "text/plain": [
       "<Figure size 640x480 with 1 Axes>"
      ]
     },
     "metadata": {},
     "output_type": "display_data"
    }
   ],
   "source": [
    "# check if the neighbours are being found correctly\n",
    "def check_grid_infect():\n",
    "    human = sub.humans[np.random.randint(0, len(sub.humans))]\n",
    "    hx, hy = human.location[0], human.location[1]\n",
    "    print(human.location)\n",
    "    print(sub.scan(human))\n",
    "    init = sub.grid[hx,hy] \n",
    "    sub.grid[hx,hy] = 4\n",
    "    plt.imshow(sub.grid, cmap=cmap, norm=norm, interpolation='nearest', alpha=0.7)\n",
    "    plt.show()\n",
    "    sub.grid[hx,hy] = init\n",
    "\n",
    "check_grid_infect()"
   ]
  },
  {
   "cell_type": "code",
   "execution_count": 372,
   "metadata": {},
   "outputs": [
    {
     "data": {
      "image/png": "[encoded data removed]",
      "text/plain": [
       "<Figure size 640x480 with 1 Axes>"
      ]
     },
     "metadata": {},
     "output_type": "display_data"
    }
   ],
   "source": [
    "\n",
    "plt.imshow(sub.grid, cmap=cmap, norm=norm, interpolation='nearest', alpha=0.7)\n",
    "plt.show()"
   ]
  },
  {
   "cell_type": "code",
   "execution_count": 218,
   "metadata": {},
   "outputs": [
    {
     "data": {
      "text/plain": [
       "0.094"
      ]
     },
     "execution_count": 218,
     "metadata": {},
     "output_type": "execute_result"
    }
   ],
   "source": [
    "# check if the number of infected people is around 10% of the population\n",
    "np.sum(v.grid == 2)/n_humans"
   ]
  },
  {
   "cell_type": "code",
   "execution_count": 227,
   "metadata": {},
   "outputs": [
    {
     "data": {
      "text/plain": [
       "array([[2., 2., 4., ..., 5., 4., 4.],\n",
       "       [6., 5., 6., ..., 3., 5., 6.],\n",
       "       [6., 5., 6., ..., 3., 4., 5.],\n",
       "       ...,\n",
       "       [4., 4., 5., ..., 5., 4., 5.],\n",
       "       [3., 2., 4., ..., 5., 4., 4.],\n",
       "       [2., 2., 4., ..., 5., 4., 4.]])"
      ]
     },
     "execution_count": 227,
     "metadata": {},
     "output_type": "execute_result"
    }
   ],
   "source": [
    "grid = np.array([\n",
    "    [0, 0, 0, 0, 0, 0, 0, 0],\n",
    "    [0, 0, 0, 0, 0, 0, 0, 0],\n",
    "    [0, 0, 0, 1, 0, 0, 0, 0],\n",
    "    [0, 0, 0, 0, 0, 0, 0, 0],\n",
    "    [0, 0, 0, 0, 0, 0, 0, 0],\n",
    "    [0, 0, 0, 0, 0, 0, 0, 0],\n",
    "    [0, 0, 0, 0, 0, 0, 0, 0],\n",
    "    [0, 0, 0, 0, 0, 0, 0, 0]\n",
    "])\n",
    "\n",
    "# Define a 5x5 window (kernel) for correlation\n",
    "kernel = np.ones((scan_space, scan_space))\n",
    "\n",
    "result = correlate2d(v.grid, kernel, mode='same', boundary='wrap')\n",
    "result"
   ]
  }
 ],
 "metadata": {
  "kernelspec": {
   "display_name": "Python 3",
   "language": "python",
   "name": "python3"
  },
  "language_info": {
   "codemirror_mode": {
    "name": "ipython",
    "version": 3
   },
   "file_extension": ".py",
   "mimetype": "text/x-python",
   "name": "python",
   "nbconvert_exporter": "python",
   "pygments_lexer": "ipython3",
   "version": "3.11.4"
  },
  "orig_nbformat": 4
 },
 "nbformat": 4,
 "nbformat_minor": 2
}
