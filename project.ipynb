{
 "cells": [
  {
   "cell_type": "markdown",
   "metadata": {},
   "source": [
    "### Modelling Spread of Diseases using Agent Based Modelling\n",
    "\n",
    "In this project, the aim is to model the spread of diseases across individuals over time, accounting for the movement of individuals across a grid space. The set up is as follows:\n",
    "\n",
    "Agent: Individual (location, infected, transmission rate, recovery rate, vacc status) The transmission rate dependent on vacc status and recovery rate is dependent on the strength of the disease, which factors their values up or down given strength, \n",
    "Potential other things to add: immunity after infection.\n",
    "\n",
    "Disease (Strength) and also another factor of minimum recovery timestep, which is the minimum amount of time steps before any recovery (using the recovery rate) can be taken.\n",
    "\n",
    "Environment: Consists of 10 different nodes/locations, where each node is has a 50x50 grid space, where agents can be at (agent.location)\n",
    "\n",
    "Location Rules:\n",
    "\n",
    "1. An agent can choose one of three choices, stay where they are, move to another grid space within the node, or move to another grid space at another node\n",
    "2. Agents can move freely from one node to any other at one timestep, no hinderances besides capacity in 3.\n",
    "3. If the grid space is already occupied by an agent, randomly select another space in the node, otherwise if all taken, randomly select another node and grid space.\n",
    "\n",
    "Infection Rules:\n",
    "\n",
    "1. An agent can be infected at a timestep if they are within a 5x5 grid space of an infected individual, dependent on their transmission rate.\n",
    "2. The probability of the agent recovering from the infection depends on the recovery rate.\n",
    "3. An individual that is infected has should not move from their location\n",
    "\n",
    "Parameters to collect:\n",
    "\n",
    "- Percentage of infected at each timestep for each node\n",
    "- Percentage of infected by vacc status\n",
    "- Average infections per population in node\n",
    "\n",
    "Things to consider:\n",
    "- Deaths (Death Rate Probability - Dependent on vaccs, and also immunity)\n",
    "- Try one city first, if works then expand. \n",
    "- 3 parameters to determine movement of individual across grid space."
   ]
  },
  {
   "cell_type": "code",
   "execution_count": 3,
   "metadata": {},
   "outputs": [],
   "source": [
    "import numpy as np\n",
    "import matplotlib.pyplot as plt\n",
    "from matplotlib.colors import ListedColormap, BoundaryNorm\n",
    "from scipy.signal import correlate2d\n",
    "from matplotlib.animation import FuncAnimation\n",
    "\n",
    "cmap = ListedColormap(['white', 'grey', 'red', 'blue'])\n",
    "norm = BoundaryNorm([0, 1, 2, 3, 4], cmap.N)"
   ]
  },
  {
   "cell_type": "markdown",
   "metadata": {},
   "source": [
    "## Creating the Agent Class"
   ]
  },
  {
   "cell_type": "code",
   "execution_count": 393,
   "metadata": {},
   "outputs": [],
   "source": [
    "#hyperparameters to tune\n",
    "infection_rate = 0.01 # percentage of people infected\n",
    "vacc_rate = 0.2 # percentage of people vaccinated\n",
    "n_humans = 1000\n",
    "grid_space = 100 #nxn grid\n",
    "n_nodes = 10\n",
    "steps = 100\n",
    "scan_space = 3\n",
    "min_infect_days = 7\n",
    "decision_vaccine = 0.3\n",
    "multiplier_factor = 1.1 \n",
    "vaccine_multiplier = 0.3 # higher vacc multiplier means lower effectiveness of vaccine\n",
    "immunity_multiplier = 0.1 # higher immunity multiplier means lower effectiveness of immunity\n",
    "vaccine_randomness = 0.5 # can be used to increase or decrease the randomness of the vaccine\n",
    "immunity_randomness = 0.1 # can be used to increase or decrease the randomness of the vaccine"
   ]
  },
  {
   "cell_type": "code",
   "execution_count": 376,
   "metadata": {},
   "outputs": [],
   "source": [
    "class Human():\n",
    "    def __init__(self):\n",
    "        self.infected = np.random.random() < infection_rate\n",
    "        self.transmission_rate = np.random.random() # getting infected chance\n",
    "        self.recovery_rate = np.random.random()\n",
    "        self.vaccine = np.random.random() < vacc_rate\n",
    "        self.infected_time = 0\n",
    "        self.immunity = False # if infected and recovered, then immune = True\n",
    "\n",
    "    '''Choose a new location to move to based on random probability'''\n",
    "    def choose_newlocation(self):\n",
    "        if self.infected: # stay at location\n",
    "            self.decision = 0\n",
    "        else: # make choice to move to a new location or stay\n",
    "            # using a dirichlet distribution, which is distribution over vectors of probabilities that sum to 1 (2 for now, will up to 3 when create cities)\n",
    "            random_moveto = np.random.dirichlet(np.ones(2), size=1)\n",
    "            self.decision = np.argmax(random_moveto)\n",
    "        return self.decision\n",
    "    \n",
    "    def recovery(self): # run at each step\n",
    "        chance_recovery = np.random.random() #move down later\n",
    "        #print('chance_recovery', chance_recovery)\n",
    "        if self.infected:\n",
    "            if self.infected_time > min_infect_days:\n",
    "                if self.vaccine:\n",
    "                    vaccine_multiplier_self = np.random.normal(vaccine_multiplier, vaccine_randomness) # introduce randomness to vaccine for human\n",
    "                    #print('vac str', vaccine_multiplier_self)\n",
    "                    chance_recovery = chance_recovery * vaccine_multiplier_self\n",
    "                    #print('aftvac', chance_recovery)\n",
    "                if self.immunity:\n",
    "                    immunity_multiplier_self = np.random.normal(immunity_multiplier, immunity_randomness) # introduce randomness to immunity for human\n",
    "                    #print('imm str', immunity_multiplier_self)\n",
    "                    chance_recovery = chance_recovery * immunity_multiplier_self\n",
    "                    #print('imm adj', chance_recovery)\n",
    "                if chance_recovery > self.recovery_rate: # recovered\n",
    "                    self.infected = False\n",
    "                    self.immunity = True\n",
    "                    self.infected_time = 0\n",
    "                    # random chance to get vaccine after recovery\n",
    "                    if np.random.random() > decision_vaccine:\n",
    "                        self.vaccine = True\n",
    "                else:  # not recovered\n",
    "                    self.infected_time += 1\n",
    "            else:\n",
    "                self.infected_time += 1\n",
    "        else:\n",
    "            pass\n",
    "        return self.infected\n",
    "    \n",
    "    def infect(self, n_infected): # run at each step\n",
    "        chance_infection = np.random.random() #move down later, just for checking\n",
    "        #print('Initial', chance_infection)\n",
    "        # account for more infected people, more chance of infection\n",
    "        q_infected = self.infected\n",
    "        adjusted_chance_infection = chance_infection * (multiplier_factor ** (n_infected - 1))\n",
    "        #print('After Multi', adjusted_chance_infection)\n",
    "        adjusted_chance_infection = min(adjusted_chance_infection, 1)\n",
    "        if self.infected:\n",
    "            pass\n",
    "        else: # not infected\n",
    "            if n_infected > 0:\n",
    "                # account for vaccine and immunity\n",
    "                if self.vaccine:\n",
    "                    vaccine_multiplier_self = np.random.normal(vaccine_multiplier, vaccine_randomness)\n",
    "                    #print('vac str', vaccine_multiplier_self)\n",
    "                    adjusted_chance_infection = adjusted_chance_infection * vaccine_multiplier_self\n",
    "                    #print('aftvac', adjusted_chance_infection)\n",
    "                if self.immunity:\n",
    "                    immunity_multiplier_self = np.random.normal(immunity_multiplier, immunity_randomness)\n",
    "                    #print('imm str', immunity_multiplier_self)\n",
    "                    adjusted_chance_infection = adjusted_chance_infection * immunity_multiplier_self\n",
    "                    #print('imm adj', adjusted_chance_infection)\n",
    "                # if chance of infection is greater than transmission rate, then infected\n",
    "                if adjusted_chance_infection > self.transmission_rate:\n",
    "                    self.infected = True\n",
    "                    self.infected_time = 0\n",
    "        return q_infected, self.infected"
   ]
  },
  {
   "cell_type": "code",
   "execution_count": 385,
   "metadata": {},
   "outputs": [
    {
     "name": "stdout",
     "output_type": "stream",
     "text": [
      "True\n",
      "True\n",
      "True\n",
      "False\n",
      "True\n",
      "True\n",
      "False\n",
      "False\n",
      "True\n",
      "True\n"
     ]
    }
   ],
   "source": [
    "np.random.random() > 0.1\n",
    "\n",
    "for i in range(10):\n",
    "    print(np.random.random() > 0.1)"
   ]
  },
  {
   "cell_type": "markdown",
   "metadata": {},
   "source": [
    "## Creating the Environment Grid Space of Suburb\n",
    "\n",
    "This is just for one city, another class City (to contain 10 Suburbs)"
   ]
  },
  {
   "cell_type": "code",
   "execution_count": 386,
   "metadata": {},
   "outputs": [],
   "source": [
    "class Suburb():\n",
    "    # create a 50x50 grid space\n",
    "    def __init__(self):\n",
    "        self.grid = np.zeros((grid_space,grid_space))\n",
    "        self.humans = []\n",
    "\n",
    "    '''Populates the grid space with humans, initial configuration'''\n",
    "    def populate(self, n_humans):\n",
    "        # randomly place humans around in the grid, 1 person per grid space\n",
    "        self.humans = [Human() for i in range(n_humans)]\n",
    "        for human in self.humans:\n",
    "            x = np.random.randint(0,grid_space)\n",
    "            y = np.random.randint(0,grid_space)\n",
    "            # check if the grid space is already occupied\n",
    "            while self.grid[x,y] != 0:\n",
    "                x = np.random.randint(0,grid_space)\n",
    "                y = np.random.randint(0,grid_space)\n",
    "            if human.infected:\n",
    "                self.grid[x,y] = 2 # if infected\n",
    "            else:\n",
    "                self.grid[x,y] = 1 # if not infected\n",
    "            human.location = (x,y) # save location of human\n",
    "    \n",
    "    '''checks the grid space around each human to find number of infected people''' \n",
    "    def scan(self, human):\n",
    "        # find neighbours of human\n",
    "        x, y = human.location[0], human.location[1]\n",
    "        #neighbours = []\n",
    "        # set boundary constraints\n",
    "        x_min = max(0, x-scan_space)\n",
    "        x_max = min(grid_space-1, x+scan_space)\n",
    "        y_min = max(0, y-scan_space)\n",
    "        y_max = min(grid_space-1, y+scan_space)\n",
    "        neighbours = self.grid[x_min:x_max+1, y_min:y_max+1]\n",
    "        infected = np.sum(neighbours == 2)\n",
    "        if human.infected:\n",
    "            return(infected - 1) #number of infected humans around the human\n",
    "        else:\n",
    "            return(infected) #number of infected humans around the human\n",
    "        \n",
    "    def move(self, human):\n",
    "        # decide whether to move or not based on human decision\n",
    "        decision = human.choose_newlocation()\n",
    "        if decision == 1: #not infected, move\n",
    "            # move to a new location\n",
    "            x = np.random.randint(0,grid_space)\n",
    "            y = np.random.randint(0,grid_space)\n",
    "            # check if the grid space is already occupied\n",
    "            while self.grid[x,y] != 0:\n",
    "                x = np.random.randint(0,grid_space)\n",
    "                y = np.random.randint(0,grid_space)\n",
    "            # update old location to 0\n",
    "            self.grid[human.location[0], human.location[1]] = 0\n",
    "\n",
    "            # update human location\n",
    "            human.location = (x,y)\n",
    "            self.grid[x,y] = 1\n",
    "        else: #update grid space \n",
    "            # if infected, stay at location\n",
    "            if human.infected:\n",
    "                self.grid[human.location[0], human.location[1]] = 2\n",
    "            else:\n",
    "                self.grid[human.location[0], human.location[1]] = 1\n",
    "\n",
    "    def one_step(self):\n",
    "        # check number of infected people\n",
    "        for human in self.humans:\n",
    "            n_infected = self.scan(human)\n",
    "            human.recovery()\n",
    "            human.infect(n_infected)\n",
    "            self.move(human)\n",
    "        percent_infected = np.sum(self.grid == 2)\n",
    "        return percent_infected\n",
    "    \n",
    "    def step(self, n_humans, n_steps):\n",
    "        # initialize grid space\n",
    "        self.populate(n_humans)\n",
    "        # check number of infected people\n",
    "        init_percent_infected = np.sum(self.grid == 2)/n_humans\n",
    "        # create array for record per step\n",
    "        record = np.zeros(n_steps, dtype=float)\n",
    "        record[0] = init_percent_infected\n",
    "        # create array for infections per step\n",
    "        infections = np.zeros(n_steps, dtype=float)\n",
    "        # create array for vaccine rate overtime\n",
    "        vaccine_perc = np.zeros(n_steps, dtype=float)\n",
    "\n",
    "        for step in range(1,n_steps):\n",
    "            # number of infected people\n",
    "            infected_at_step = 0\n",
    "            vaccine_at_step = 0\n",
    "            n_infected = np.sum(self.grid == 2)\n",
    "            for human in self.humans:\n",
    "                infected_prior = human.infected\n",
    "                n_infected = self.scan(human)\n",
    "                human.recovery()\n",
    "                human.infect(n_infected)\n",
    "                infected_after = human.infected\n",
    "                \n",
    "                # if not infected before but infected after, then infected\n",
    "                if not infected_prior and infected_after:\n",
    "                    infected_at_step += 1\n",
    "                \n",
    "                # total vacc people\n",
    "                if human.vaccine:\n",
    "                    vaccine_at_step += 1\n",
    "                self.move(human)\n",
    "                \n",
    "            percent_infected = np.sum(self.grid == 2)/n_humans\n",
    "            record[step] = percent_infected\n",
    "            percentage_infected = infected_at_step/n_humans\n",
    "            infections[step] = percentage_infected\n",
    "            vaccine_perc[step] = vaccine_at_step/n_humans\n",
    "            # save plot of grid space\n",
    "        return record, infections, vaccine_perc\n",
    "\n"
   ]
  },
  {
   "cell_type": "code",
   "execution_count": 350,
   "metadata": {},
   "outputs": [],
   "source": [
    "sub = Suburb()"
   ]
  },
  {
   "cell_type": "code",
   "execution_count": 351,
   "metadata": {},
   "outputs": [
    {
     "data": {
      "text/plain": [
       "array([0.014, 0.057, 0.114, 0.189, 0.285, 0.374, 0.459, 0.52 , 0.589,\n",
       "       0.634, 0.647, 0.662, 0.645, 0.615, 0.566, 0.516, 0.47 , 0.432,\n",
       "       0.387, 0.357, 0.323, 0.295, 0.271, 0.254, 0.241, 0.229, 0.215,\n",
       "       0.212, 0.206, 0.196, 0.192, 0.183, 0.18 , 0.176, 0.177, 0.172,\n",
       "       0.171, 0.17 , 0.169, 0.168, 0.163, 0.161, 0.161, 0.163, 0.164,\n",
       "       0.164, 0.162, 0.163, 0.161, 0.161])"
      ]
     },
     "execution_count": 351,
     "metadata": {},
     "output_type": "execute_result"
    }
   ],
   "source": [
    "# number of humans on the grid, and the timestep\n",
    "c, s = sub.step(1000, 50)\n",
    "c"
   ]
  },
  {
   "cell_type": "code",
   "execution_count": 352,
   "metadata": {},
   "outputs": [
    {
     "data": {
      "text/plain": [
       "array([0.   , 0.043, 0.057, 0.075, 0.096, 0.089, 0.085, 0.061, 0.069,\n",
       "       0.048, 0.036, 0.04 , 0.025, 0.024, 0.021, 0.014, 0.009, 0.013,\n",
       "       0.007, 0.006, 0.008, 0.006, 0.003, 0.006, 0.004, 0.005, 0.003,\n",
       "       0.001, 0.005, 0.001, 0.004, 0.   , 0.001, 0.001, 0.003, 0.   ,\n",
       "       0.   , 0.   , 0.001, 0.001, 0.   , 0.   , 0.001, 0.002, 0.002,\n",
       "       0.   , 0.001, 0.001, 0.   , 0.001])"
      ]
     },
     "execution_count": 352,
     "metadata": {},
     "output_type": "execute_result"
    }
   ],
   "source": [
    "s"
   ]
  },
  {
   "cell_type": "code",
   "execution_count": 353,
   "metadata": {},
   "outputs": [
    {
     "data": {
      "text/plain": [
       "[<matplotlib.lines.Line2D at 0x128b312d0>]"
      ]
     },
     "execution_count": 353,
     "metadata": {},
     "output_type": "execute_result"
    },
    {
     "data": {
      "image/png": "[encoded data removed]",
      "text/plain": [
       "<Figure size 640x480 with 1 Axes>"
      ]
     },
     "metadata": {},
     "output_type": "display_data"
    }
   ],
   "source": [
    "plt.plot(c)\n",
    "plt.plot(s)\n"
   ]
  },
  {
   "cell_type": "code",
   "execution_count": 394,
   "metadata": {},
   "outputs": [],
   "source": [
    "# 10 simulations\n",
    "c = np.zeros((10,100))\n",
    "s = np.zeros((10,100))\n",
    "v = np.zeros((10,100))\n",
    "for i in range(10):\n",
    "    sub = Suburb()\n",
    "    c[i], s[i], v[i] = sub.step(1000, 100)\n",
    "    \n",
    "# take average of 10 simulations\n",
    "c_avg = np.average(c, axis=0)\n",
    "s_avg = np.average(s, axis=0)\n",
    "v_avg = np.average(v, axis=0)"
   ]
  },
  {
   "cell_type": "code",
   "execution_count": 392,
   "metadata": {},
   "outputs": [
    {
     "data": {
      "text/plain": [
       "[<matplotlib.lines.Line2D at 0x129010b50>]"
      ]
     },
     "execution_count": 392,
     "metadata": {},
     "output_type": "execute_result"
    },
    {
     "data": {
      "image/png": "[encoded data removed]",
      "text/plain": [
       "<Figure size 640x480 with 1 Axes>"
      ]
     },
     "metadata": {},
     "output_type": "display_data"
    }
   ],
   "source": [
    "plt.plot(c_avg)\n",
    "plt.plot(s_avg)\n",
    "plt.plot(v_avg)"
   ]
  },
  {
   "cell_type": "code",
   "execution_count": 395,
   "metadata": {},
   "outputs": [
    {
     "data": {
      "text/plain": [
       "[<matplotlib.lines.Line2D at 0x12905a6d0>]"
      ]
     },
     "execution_count": 395,
     "metadata": {},
     "output_type": "execute_result"
    },
    {
     "data": {
      "image/png": "[encoded data removed]",
      "text/plain": [
       "<Figure size 640x480 with 1 Axes>"
      ]
     },
     "metadata": {},
     "output_type": "display_data"
    }
   ],
   "source": [
    "plt.plot(c_avg)\n",
    "plt.plot(s_avg)\n",
    "plt.plot(v_avg)"
   ]
  },
  {
   "cell_type": "code",
   "execution_count": 380,
   "metadata": {},
   "outputs": [
    {
     "data": {
      "image/png": "[encoded data removed]",
      "text/plain": [
       "<Figure size 640x480 with 1 Axes>"
      ]
     },
     "metadata": {},
     "output_type": "display_data"
    }
   ],
   "source": [
    "plt.imshow(sub.grid, cmap=cmap, norm=norm, interpolation='nearest', alpha=0.7)\n",
    "plt.show()"
   ]
  },
  {
   "cell_type": "markdown",
   "metadata": {},
   "source": [
    "## Testing Cases"
   ]
  },
  {
   "cell_type": "code",
   "execution_count": 277,
   "metadata": {},
   "outputs": [
    {
     "name": "stdout",
     "output_type": "stream",
     "text": [
      "False (18, 30)\n",
      "Check Movment:  1\n",
      "Infected Neighbours:  0\n",
      "If Infected:  False\n",
      "Immunity:  False\n",
      "Vaccine:  False\n",
      "Inf Time:  0\n",
      "Recovery and trans rate:  0.5016448614993152 0.9794288274576531\n",
      "---------------------------\n",
      "False (30, 23)\n",
      "Check Movment:  1\n",
      "Infected Neighbours:  0\n",
      "If Infected:  False\n",
      "Immunity:  True\n",
      "Vaccine:  False\n",
      "Inf Time:  0\n",
      "Recovery and trans rate:  0.5632993114264974 0.25716647766451317\n",
      "---------------------------\n",
      "False (30, 30)\n",
      "Check Movment:  1\n",
      "Infected Neighbours:  0\n",
      "If Infected:  False\n",
      "Immunity:  True\n",
      "Vaccine:  False\n",
      "Inf Time:  0\n",
      "Recovery and trans rate:  0.3682472672597855 0.16173526867331645\n",
      "---------------------------\n",
      "False (18, 12)\n",
      "Check Movment:  1\n",
      "Infected Neighbours:  0\n",
      "If Infected:  False\n",
      "Immunity:  True\n",
      "Vaccine:  False\n",
      "Inf Time:  0\n",
      "Recovery and trans rate:  0.674704676456354 0.5610724263890879\n",
      "---------------------------\n",
      "False (29, 45)\n",
      "Check Movment:  1\n",
      "Infected Neighbours:  0\n",
      "If Infected:  False\n",
      "Immunity:  True\n",
      "Vaccine:  False\n",
      "Inf Time:  0\n",
      "Recovery and trans rate:  0.5849207163390189 0.760874768416543\n",
      "---------------------------\n"
     ]
    }
   ],
   "source": [
    "for i in sub.humans[5:10]:\n",
    "    print(i.infected, i.location)\n",
    "    check= i.choose_newlocation()\n",
    "    print('Check Movment: ', check)\n",
    "    print('Infected Neighbours: ', sub.scan(i))\n",
    "    print('If Infected: ', i.infected)\n",
    "    print('Immunity: ', i.immunity)\n",
    "    print('Vaccine: ', i.vaccine)\n",
    "    print('Inf Time: ', i.infected_time)\n",
    "    print('Recovery and trans rate: ', i.recovery_rate, i.transmission_rate)\n",
    "    print('---------------------------')"
   ]
  },
  {
   "cell_type": "code",
   "execution_count": 278,
   "metadata": {},
   "outputs": [
    {
     "name": "stdout",
     "output_type": "stream",
     "text": [
      "False (18, 30)\n",
      "Check Movment:  1\n",
      "Infected Neighbours:  0\n",
      "If Infected:  False\n",
      "Immunity:  False\n",
      "Vaccine:  False\n",
      "Inf Time:  0\n",
      "Recovery and trans rate:  0.5016448614993152 0.9794288274576531\n",
      "---------------------------\n",
      "False (30, 23)\n",
      "Check Movment:  1\n",
      "Infected Neighbours:  0\n",
      "If Infected:  False\n",
      "Immunity:  True\n",
      "Vaccine:  False\n",
      "Inf Time:  0\n",
      "Recovery and trans rate:  0.5632993114264974 0.25716647766451317\n",
      "---------------------------\n",
      "False (30, 30)\n",
      "Check Movment:  0\n",
      "Infected Neighbours:  0\n",
      "If Infected:  False\n",
      "Immunity:  True\n",
      "Vaccine:  False\n",
      "Inf Time:  0\n",
      "Recovery and trans rate:  0.3682472672597855 0.16173526867331645\n",
      "---------------------------\n",
      "False (18, 12)\n",
      "Check Movment:  1\n",
      "Infected Neighbours:  0\n",
      "If Infected:  False\n",
      "Immunity:  True\n",
      "Vaccine:  False\n",
      "Inf Time:  0\n",
      "Recovery and trans rate:  0.674704676456354 0.5610724263890879\n",
      "---------------------------\n",
      "False (29, 45)\n",
      "Check Movment:  1\n",
      "Infected Neighbours:  0\n",
      "If Infected:  False\n",
      "Immunity:  True\n",
      "Vaccine:  False\n",
      "Inf Time:  0\n",
      "Recovery and trans rate:  0.5849207163390189 0.760874768416543\n",
      "---------------------------\n"
     ]
    }
   ],
   "source": [
    "# test case of whether the new location is chosen well. \n",
    "for i in sub.humans[5:10]:\n",
    "    print(i.infected, i.location)\n",
    "    check= i.choose_newlocation()\n",
    "    print('Check Movment: ', check)\n",
    "    print('Infected Neighbours: ', sub.scan(i))\n",
    "    print('If Infected: ', i.infected)\n",
    "    print('Immunity: ', i.immunity)\n",
    "    print('Vaccine: ', i.vaccine)\n",
    "    print('Inf Time: ', i.infected_time)\n",
    "    print('Recovery and trans rate: ', i.recovery_rate, i.transmission_rate)\n",
    "    print('---------------------------')"
   ]
  },
  {
   "cell_type": "code",
   "execution_count": 213,
   "metadata": {},
   "outputs": [
    {
     "ename": "TypeError",
     "evalue": "cannot unpack non-iterable NoneType object",
     "output_type": "error",
     "traceback": [
      "\u001b[0;31m---------------------------------------------------------------------------\u001b[0m",
      "\u001b[0;31mTypeError\u001b[0m                                 Traceback (most recent call last)",
      "\u001b[1;32m/Users/dan/University/ComputationalModeling/project/project.ipynb Cell 13\u001b[0m line \u001b[0;36m2\n\u001b[1;32m      <a href='vscode-notebook-cell:/Users/dan/University/ComputationalModeling/project/project.ipynb#X25sZmlsZQ%3D%3D?line=0'>1</a>\u001b[0m \u001b[39mfor\u001b[39;00m i \u001b[39min\u001b[39;00m sub\u001b[39m.\u001b[39mhumans[\u001b[39m10\u001b[39m:\u001b[39m20\u001b[39m]:\n\u001b[0;32m----> <a href='vscode-notebook-cell:/Users/dan/University/ComputationalModeling/project/project.ipynb#X25sZmlsZQ%3D%3D?line=1'>2</a>\u001b[0m     infected, immunity, infected_time, chance_recovery \u001b[39m=\u001b[39m i\u001b[39m.\u001b[39mrecovery()\n\u001b[1;32m      <a href='vscode-notebook-cell:/Users/dan/University/ComputationalModeling/project/project.ipynb#X25sZmlsZQ%3D%3D?line=2'>3</a>\u001b[0m     \u001b[39mprint\u001b[39m(\u001b[39m'\u001b[39m\u001b[39mInfected: \u001b[39m\u001b[39m'\u001b[39m, infected)\n\u001b[1;32m      <a href='vscode-notebook-cell:/Users/dan/University/ComputationalModeling/project/project.ipynb#X25sZmlsZQ%3D%3D?line=3'>4</a>\u001b[0m     \u001b[39mprint\u001b[39m(\u001b[39m'\u001b[39m\u001b[39mImmunity: \u001b[39m\u001b[39m'\u001b[39m, immunity)\n",
      "\u001b[0;31mTypeError\u001b[0m: cannot unpack non-iterable NoneType object"
     ]
    }
   ],
   "source": [
    "for i in sub.humans[10:20]:\n",
    "    infected, immunity, infected_time, chance_recovery = i.recovery()\n",
    "    print('Infected: ', infected)\n",
    "    print('Immunity: ', immunity)\n",
    "    print('Inf Time: ', infected_time)\n",
    "    print('Chance Recovery: ', chance_recovery)"
   ]
  },
  {
   "cell_type": "code",
   "execution_count": 197,
   "metadata": {},
   "outputs": [
    {
     "ename": "TypeError",
     "evalue": "cannot unpack non-iterable NoneType object",
     "output_type": "error",
     "traceback": [
      "\u001b[0;31m---------------------------------------------------------------------------\u001b[0m",
      "\u001b[0;31mTypeError\u001b[0m                                 Traceback (most recent call last)",
      "\u001b[1;32m/Users/dan/University/ComputationalModeling/project/project.ipynb Cell 13\u001b[0m line \u001b[0;36m3\n\u001b[1;32m      <a href='vscode-notebook-cell:/Users/dan/University/ComputationalModeling/project/project.ipynb#X31sZmlsZQ%3D%3D?line=0'>1</a>\u001b[0m \u001b[39m# test the infect function\u001b[39;00m\n\u001b[1;32m      <a href='vscode-notebook-cell:/Users/dan/University/ComputationalModeling/project/project.ipynb#X31sZmlsZQ%3D%3D?line=1'>2</a>\u001b[0m \u001b[39mfor\u001b[39;00m i \u001b[39min\u001b[39;00m sub\u001b[39m.\u001b[39mhumans[\u001b[39m10\u001b[39m:\u001b[39m20\u001b[39m]:\n\u001b[0;32m----> <a href='vscode-notebook-cell:/Users/dan/University/ComputationalModeling/project/project.ipynb#X31sZmlsZQ%3D%3D?line=2'>3</a>\u001b[0m     n_inf, infected, transmission_rate, adjusted_chance_infection, chance_infection \u001b[39m=\u001b[39m i\u001b[39m.\u001b[39minfect(sub\u001b[39m.\u001b[39mscan(i))\n\u001b[1;32m      <a href='vscode-notebook-cell:/Users/dan/University/ComputationalModeling/project/project.ipynb#X31sZmlsZQ%3D%3D?line=3'>4</a>\u001b[0m     \u001b[39mprint\u001b[39m(\u001b[39m'\u001b[39m\u001b[39mInfected: \u001b[39m\u001b[39m'\u001b[39m, infected)\n\u001b[1;32m      <a href='vscode-notebook-cell:/Users/dan/University/ComputationalModeling/project/project.ipynb#X31sZmlsZQ%3D%3D?line=4'>5</a>\u001b[0m     \u001b[39mprint\u001b[39m(\u001b[39m'\u001b[39m\u001b[39mTransmission Rate: \u001b[39m\u001b[39m'\u001b[39m, transmission_rate)\n",
      "\u001b[0;31mTypeError\u001b[0m: cannot unpack non-iterable NoneType object"
     ]
    }
   ],
   "source": [
    "# test the infect function\n",
    "for i in sub.humans[10:20]:\n",
    "    n_inf, infected, transmission_rate, adjusted_chance_infection, chance_infection = i.infect(sub.scan(i))\n",
    "    print('Infected: ', infected)\n",
    "    print('Transmission Rate: ', transmission_rate)\n",
    "    print('Adjusted Chance Infection: ', adjusted_chance_infection)\n",
    "    print('Chance Infection: ', chance_infection)\n",
    "    print('Number Infected: ', n_inf)\n",
    "    print('---------------------------')"
   ]
  },
  {
   "cell_type": "code",
   "execution_count": 279,
   "metadata": {},
   "outputs": [
    {
     "name": "stdout",
     "output_type": "stream",
     "text": [
      "Human:  219\n",
      "Location:  (32, 13)\n",
      "Decision:  0\n",
      "New Location:  (32, 13)\n",
      "Human:  123\n",
      "Location:  (33, 6)\n",
      "Decision:  0\n",
      "New Location:  (33, 6)\n",
      "Human:  252\n",
      "Location:  (49, 27)\n",
      "Decision:  1\n",
      "New Location:  (14, 47)\n",
      "Human:  495\n",
      "Location:  (28, 14)\n",
      "Decision:  0\n",
      "New Location:  (28, 14)\n",
      "Human:  465\n",
      "Location:  (3, 12)\n",
      "Decision:  1\n",
      "New Location:  (44, 26)\n"
     ]
    }
   ],
   "source": [
    "# randomly select 5 humans to test:\n",
    "for i in range(5):\n",
    "    o = np.random.randint(0, len(sub.humans))\n",
    "    human = sub.humans[o]\n",
    "    print('Human: ', o)\n",
    "    print('Location: ', human.location)\n",
    "    sub.move(human)\n",
    "    print('Decision: ', human.decision)\n",
    "    print('New Location: ', human.location)"
   ]
  },
  {
   "cell_type": "code",
   "execution_count": 987,
   "metadata": {},
   "outputs": [
    {
     "name": "stdout",
     "output_type": "stream",
     "text": [
      "(0, 2)\n",
      "12\n"
     ]
    },
    {
     "data": {
      "image/png": "[encoded data removed]",
      "text/plain": [
       "<Figure size 640x480 with 1 Axes>"
      ]
     },
     "metadata": {},
     "output_type": "display_data"
    }
   ],
   "source": [
    "# check if the neighbours are being found correctly\n",
    "def check_grid_infect():\n",
    "    human = sub.humans[np.random.randint(0, len(sub.humans))]\n",
    "    hx, hy = human.location[0], human.location[1]\n",
    "    print(human.location)\n",
    "    print(sub.scan(human))\n",
    "    init = sub.grid[hx,hy] \n",
    "    sub.grid[hx,hy] = 4\n",
    "    plt.imshow(sub.grid, cmap=cmap, norm=norm, interpolation='nearest', alpha=0.7)\n",
    "    plt.show()\n",
    "    sub.grid[hx,hy] = init\n",
    "\n",
    "check_grid_infect()"
   ]
  },
  {
   "cell_type": "code",
   "execution_count": 1097,
   "metadata": {},
   "outputs": [
    {
     "data": {
      "image/png": "[encoded data removed]",
      "text/plain": [
       "<Figure size 640x480 with 1 Axes>"
      ]
     },
     "metadata": {},
     "output_type": "display_data"
    }
   ],
   "source": [
    "sub.one_step()\n",
    "plt.imshow(sub.grid, cmap=cmap, norm=norm, interpolation='nearest', alpha=0.7)\n",
    "plt.show()"
   ]
  }
 ],
 "metadata": {
  "kernelspec": {
   "display_name": "Python 3",
   "language": "python",
   "name": "python3"
  },
  "language_info": {
   "codemirror_mode": {
    "name": "ipython",
    "version": 3
   },
   "file_extension": ".py",
   "mimetype": "text/x-python",
   "name": "python",
   "nbconvert_exporter": "python",
   "pygments_lexer": "ipython3",
   "version": "3.11.3"
  },
  "orig_nbformat": 4
 },
 "nbformat": 4,
 "nbformat_minor": 2
}
