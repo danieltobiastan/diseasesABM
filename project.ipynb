{
 "cells": [
  {
   "cell_type": "markdown",
   "metadata": {},
   "source": [
    "### Modelling Spread of Diseases using Agent Based Modelling\n",
    "\n",
    "In this project, the aim is to model the spread of diseases across individuals over time, accounting for the movement of individuals across a grid space. The set up is as follows:\n",
    "\n",
    "Agent: Individual (location, infected, transmission rate, recovery rate, vacc status) The transmission rate dependent on vacc status and recovery rate is dependent on the strength of the disease, which factors their values up or down given strength, \n",
    "Potential other things to add: immunity after infection.\n",
    "\n",
    "Disease (Strength) and also another factor of minimum recovery timestep, which is the minimum amount of time steps before any recovery (using the recovery rate) can be taken.\n",
    "\n",
    "Environment: Consists of 10 different nodes/locations, where each node is has a 50x50 grid space, where agents can be at (agent.location)\n",
    "\n",
    "Location Rules:\n",
    "\n",
    "1. An agent can choose one of three choices, stay where they are, move to another grid space within the node, or move to another grid space at another node\n",
    "2. Agents can move freely from one node to any other at one timestep, no hinderances besides capacity in 3.\n",
    "3. If the grid space is already occupied by an agent, randomly select another space in the node, otherwise if all taken, randomly select another node and grid space.\n",
    "\n",
    "Infection Rules:\n",
    "\n",
    "1. An agent can be infected at a timestep if they are within a 5x5 grid space of an infected individual, dependent on their transmission rate.\n",
    "2. The probability of the agent recovering from the infection depends on the recovery rate.\n",
    "3. An individual that is infected has should not move from their location\n",
    "\n",
    "Parameters to collect:\n",
    "\n",
    "- Percentage of infected at each timestep for each node\n",
    "- Percentage of infected by vacc status\n",
    "- Average infections per population in node\n",
    "\n",
    "Things to consider:\n",
    "- Deaths (Death Rate Probability - Dependent on vaccs, and also immunity)\n",
    "- Try one city first, if works then expand. \n",
    "- 3 parameters to determine movement of individual across grid space."
   ]
  },
  {
   "cell_type": "code",
   "execution_count": 1,
   "metadata": {},
   "outputs": [],
   "source": [
    "import numpy as np\n",
    "import matplotlib.pyplot as plt\n",
    "from matplotlib.colors import ListedColormap, BoundaryNorm\n",
    "from scipy.signal import correlate2d\n",
    "\n",
    "cmap = ListedColormap(['white', 'grey', 'red', 'blue'])\n",
    "norm = BoundaryNorm([0, 1, 2, 3, 4], cmap.N)"
   ]
  },
  {
   "cell_type": "markdown",
   "metadata": {},
   "source": [
    "## Creating the Agent Class"
   ]
  },
  {
   "cell_type": "code",
   "execution_count": 370,
   "metadata": {},
   "outputs": [],
   "source": [
    "#hyperparameters to tune\n",
    "infection_rate = 0.3 # percentage of people infected\n",
    "vacc_rate = 0 # percentage of people vaccinated\n",
    "n_humans = 1000\n",
    "grid_space = 50\n",
    "n_nodes = 10\n",
    "steps = 100\n",
    "scan_space = 3\n",
    "movement_prob = [0.1, 0.5, 0.4]\n",
    "min_infect_days = 4\n",
    "multiplier_factor = 1.2 \n",
    "vaccine_multiplier = 0.8 # can be used to increase or decrease the effectiveness of the vaccine\n",
    "immunity_multiplier = 0.8 # can be used to increase or decrease the effectiveness of the vaccine\n",
    "vaccine_randomness = 0.05 # can be used to increase or decrease the randomness of the vaccine\n",
    "immunity_randomness = 0.05 # can be used to increase or decrease the randomness of the vaccine"
   ]
  },
  {
   "cell_type": "code",
   "execution_count": 377,
   "metadata": {},
   "outputs": [],
   "source": [
    "class Human():\n",
    "    def __init__(self):\n",
    "        self.infected = np.random.random() < infection_rate\n",
    "        self.transmission_rate = np.random.random() # getting infected chance\n",
    "        self.recovery_rate = np.random.random() \n",
    "        self.vaccine = np.random.random() < vacc_rate\n",
    "        self.infected_time = 0\n",
    "        self.immunity = False # if infected and recovered, then immune = True\n",
    "\n",
    "    '''Choose a new location to move to based on random probability'''\n",
    "    def choose_newlocation(self):\n",
    "        if self.infected: # stay at location\n",
    "            self.decision = 0\n",
    "        else: # make choice to move to a new location or stay\n",
    "            # using a dirichlet distribution, which is distribution over vectors of probabilities that sum to 1 (2 for now, will up to 3 when create cities)\n",
    "            random_moveto = np.random.dirichlet(np.ones(2), size=1)\n",
    "            self.decision = np.argmax(random_moveto)\n",
    "        return self.decision\n",
    "    \n",
    "    def recovery(self): # run at each step\n",
    "        chance_recovery = np.random.random() #move down later\n",
    "        if self.infected:\n",
    "            if self.infected_time > min_infect_days:\n",
    "                if self.vaccine:\n",
    "                    vaccine_multiplier_self = np.random.normal(1.05, vaccine_randomness) # introduce randomness to vaccine for human\n",
    "                    chance_recovery = chance_recovery * vaccine_multiplier_self\n",
    "                if self.immunity:\n",
    "                    immunity_multiplier_self = np.random.normal(1.05, immunity_randomness) # introduce randomness to immunity for human\n",
    "                    chance_recovery = chance_recovery * immunity_multiplier_self\n",
    "                if chance_recovery > self.recovery_rate: # recovered\n",
    "                    self.infected = False\n",
    "                    self.immunity = True\n",
    "                    self.infected_time = 0\n",
    "                else:  # not recovered\n",
    "                    self.infected_time += 1\n",
    "            else:\n",
    "                self.infected_time += 1\n",
    "        else:\n",
    "            pass\n",
    "        return self.infected\n",
    "    \n",
    "    def infect(self, n_infected): # run at each step\n",
    "        chance_infection = np.random.random() #move down later, just for checking\n",
    "        # account for more infected people, more chance of infection\n",
    "        adjusted_chance_infection = chance_infection * (multiplier_factor ** (n_infected - 1))\n",
    "        adjusted_chance_infection = min(adjusted_chance_infection, 1)\n",
    "        if self.infected:\n",
    "            pass\n",
    "        else: # not infected\n",
    "            if n_infected > 0:\n",
    "                if self.vaccine:\n",
    "                    vaccine_multiplier_self = np.random.normal(vaccine_multiplier, vaccine_randomness)\n",
    "                    adjusted_chance_infection = adjusted_chance_infection * vaccine_multiplier_self\n",
    "                if self.immunity:\n",
    "                    immunity_multiplier_self = np.random.normal(immunity_multiplier, immunity_randomness)\n",
    "                    adjusted_chance_infection = adjusted_chance_infection * immunity_multiplier_self\n",
    "                if adjusted_chance_infection > self.transmission_rate:\n",
    "                    self.infected = True\n",
    "                    self.infected_time = 0\n",
    "        return self.infected, adjusted_chance_infection, self.transmission_rate"
   ]
  },
  {
   "cell_type": "markdown",
   "metadata": {},
   "source": [
    "## Creating the Environment Grid Space of Suburb\n",
    "\n",
    "This is just for one city, another class City (to contain 10 Suburbs)"
   ]
  },
  {
   "cell_type": "code",
   "execution_count": 379,
   "metadata": {},
   "outputs": [],
   "source": [
    "class Suburb():\n",
    "    # create a 50x50 grid space\n",
    "    def __init__(self):\n",
    "        self.grid = np.zeros((grid_space,grid_space))\n",
    "        self.humans = []\n",
    "\n",
    "    '''Populates the grid space with humans, initial configuration'''\n",
    "    def populate(self, n_humans):\n",
    "        # randomly place humans around in the grid, 1 person per grid space\n",
    "        self.humans = [Human() for i in range(n_humans)]\n",
    "        for human in self.humans:\n",
    "            x = np.random.randint(0,grid_space)\n",
    "            y = np.random.randint(0,grid_space)\n",
    "            # check if the grid space is already occupied\n",
    "            while self.grid[x,y] != 0:\n",
    "                x = np.random.randint(0,grid_space)\n",
    "                y = np.random.randint(0,grid_space)\n",
    "            if human.infected:\n",
    "                self.grid[x,y] = 2 # if infected\n",
    "            else:\n",
    "                self.grid[x,y] = 1 # if not infected\n",
    "            human.location = (x,y) # save location of human\n",
    "    \n",
    "    '''checks the grid space around each human to find number of infected people''' \n",
    "    def scan(self, human):\n",
    "        # find neighbours of human\n",
    "        x, y = human.location[0], human.location[1]\n",
    "        #neighbours = []\n",
    "        # set boundary constraints\n",
    "        x_min = max(0, x-scan_space)\n",
    "        x_max = min(grid_space-1, x+scan_space)\n",
    "        y_min = max(0, y-scan_space)\n",
    "        y_max = min(grid_space-1, y+scan_space)\n",
    "        neighbours = self.grid[x_min:x_max+1, y_min:y_max+1]\n",
    "        infected = np.sum(neighbours == 2)\n",
    "        if human.infected:\n",
    "            return(infected - 1) #number of infected humans around the human\n",
    "        else:\n",
    "            return(infected) #number of infected humans around the human\n",
    "        \n",
    "    def move(self, human):\n",
    "        # decide whether to move or not based on human decision\n",
    "        decision = human.choose_newlocation()\n",
    "        if decision == 1:\n",
    "            # move to a new location\n",
    "            x = np.random.randint(0,grid_space)\n",
    "            y = np.random.randint(0,grid_space)\n",
    "            # check if the grid space is already occupied\n",
    "            while self.grid[x,y] != 0:\n",
    "                x = np.random.randint(0,grid_space)\n",
    "                y = np.random.randint(0,grid_space)\n",
    "            # update grid space\n",
    "            self.grid[human.location[0], human.location[1]] = 0\n",
    "            self.grid[x,y] = 1\n",
    "            # update human location\n",
    "            human.location = (x,y)\n",
    "        else:\n",
    "            human.location = human.location\n",
    "    \n",
    "    def step(self, n_humans, n_steps):\n",
    "        # initialize grid space\n",
    "        self.populate(n_humans)\n",
    "        # check number of infected people\n",
    "        init_percent_infected = np.sum(self.grid == 2)/n_humans\n",
    "        # create array for record per step\n",
    "        record = np.zeros(n_steps, dtype=float)\n",
    "        record[0] = init_percent_infected\n",
    "\n",
    "        for step in range(1,n_steps):\n",
    "            for human in self.humans:\n",
    "                n_infected = self.scan(human)\n",
    "                human.recovery()\n",
    "                human.infect(n_infected)\n",
    "            # run movement\n",
    "                self.move(human)\n",
    "            # check number of infected people\n",
    "            percent_infected = np.sum(self.grid == 2)/n_humans\n",
    "            record[step] = percent_infected\n",
    "            # save plot of grid space\n",
    "        return record\n",
    "\n",
    "        \n"
   ]
  },
  {
   "cell_type": "code",
   "execution_count": 381,
   "metadata": {},
   "outputs": [],
   "source": [
    "sub = Suburb()\n",
    "ts = sub.step(n_humans, steps)\n",
    "#sub.step(n_humans, 10) # number of humans in the city cannot be greater than the number of grid spaces (50x50)"
   ]
  },
  {
   "cell_type": "code",
   "execution_count": 382,
   "metadata": {},
   "outputs": [
    {
     "data": {
      "text/plain": [
       "[<matplotlib.lines.Line2D at 0x12fb3bd90>]"
      ]
     },
     "execution_count": 382,
     "metadata": {},
     "output_type": "execute_result"
    },
    {
     "data": {
      "image/png": "[encoded data removed]",
      "text/plain": [
       "<Figure size 640x480 with 1 Axes>"
      ]
     },
     "metadata": {},
     "output_type": "display_data"
    }
   ],
   "source": [
    "plt.plot(ts)"
   ]
  },
  {
   "cell_type": "markdown",
   "metadata": {},
   "source": [
    "## Testing Cases"
   ]
  },
  {
   "cell_type": "code",
   "execution_count": 277,
   "metadata": {},
   "outputs": [
    {
     "name": "stdout",
     "output_type": "stream",
     "text": [
      "False (18, 30)\n",
      "Check Movment:  1\n",
      "Infected Neighbours:  0\n",
      "If Infected:  False\n",
      "Immunity:  False\n",
      "Vaccine:  False\n",
      "Inf Time:  0\n",
      "Recovery and trans rate:  0.5016448614993152 0.9794288274576531\n",
      "---------------------------\n",
      "False (30, 23)\n",
      "Check Movment:  1\n",
      "Infected Neighbours:  0\n",
      "If Infected:  False\n",
      "Immunity:  True\n",
      "Vaccine:  False\n",
      "Inf Time:  0\n",
      "Recovery and trans rate:  0.5632993114264974 0.25716647766451317\n",
      "---------------------------\n",
      "False (30, 30)\n",
      "Check Movment:  1\n",
      "Infected Neighbours:  0\n",
      "If Infected:  False\n",
      "Immunity:  True\n",
      "Vaccine:  False\n",
      "Inf Time:  0\n",
      "Recovery and trans rate:  0.3682472672597855 0.16173526867331645\n",
      "---------------------------\n",
      "False (18, 12)\n",
      "Check Movment:  1\n",
      "Infected Neighbours:  0\n",
      "If Infected:  False\n",
      "Immunity:  True\n",
      "Vaccine:  False\n",
      "Inf Time:  0\n",
      "Recovery and trans rate:  0.674704676456354 0.5610724263890879\n",
      "---------------------------\n",
      "False (29, 45)\n",
      "Check Movment:  1\n",
      "Infected Neighbours:  0\n",
      "If Infected:  False\n",
      "Immunity:  True\n",
      "Vaccine:  False\n",
      "Inf Time:  0\n",
      "Recovery and trans rate:  0.5849207163390189 0.760874768416543\n",
      "---------------------------\n"
     ]
    }
   ],
   "source": [
    "for i in sub.humans[5:10]:\n",
    "    print(i.infected, i.location)\n",
    "    check= i.choose_newlocation()\n",
    "    print('Check Movment: ', check)\n",
    "    print('Infected Neighbours: ', sub.scan(i))\n",
    "    print('If Infected: ', i.infected)\n",
    "    print('Immunity: ', i.immunity)\n",
    "    print('Vaccine: ', i.vaccine)\n",
    "    print('Inf Time: ', i.infected_time)\n",
    "    print('Recovery and trans rate: ', i.recovery_rate, i.transmission_rate)\n",
    "    print('---------------------------')"
   ]
  },
  {
   "cell_type": "code",
   "execution_count": 278,
   "metadata": {},
   "outputs": [
    {
     "name": "stdout",
     "output_type": "stream",
     "text": [
      "False (18, 30)\n",
      "Check Movment:  1\n",
      "Infected Neighbours:  0\n",
      "If Infected:  False\n",
      "Immunity:  False\n",
      "Vaccine:  False\n",
      "Inf Time:  0\n",
      "Recovery and trans rate:  0.5016448614993152 0.9794288274576531\n",
      "---------------------------\n",
      "False (30, 23)\n",
      "Check Movment:  1\n",
      "Infected Neighbours:  0\n",
      "If Infected:  False\n",
      "Immunity:  True\n",
      "Vaccine:  False\n",
      "Inf Time:  0\n",
      "Recovery and trans rate:  0.5632993114264974 0.25716647766451317\n",
      "---------------------------\n",
      "False (30, 30)\n",
      "Check Movment:  0\n",
      "Infected Neighbours:  0\n",
      "If Infected:  False\n",
      "Immunity:  True\n",
      "Vaccine:  False\n",
      "Inf Time:  0\n",
      "Recovery and trans rate:  0.3682472672597855 0.16173526867331645\n",
      "---------------------------\n",
      "False (18, 12)\n",
      "Check Movment:  1\n",
      "Infected Neighbours:  0\n",
      "If Infected:  False\n",
      "Immunity:  True\n",
      "Vaccine:  False\n",
      "Inf Time:  0\n",
      "Recovery and trans rate:  0.674704676456354 0.5610724263890879\n",
      "---------------------------\n",
      "False (29, 45)\n",
      "Check Movment:  1\n",
      "Infected Neighbours:  0\n",
      "If Infected:  False\n",
      "Immunity:  True\n",
      "Vaccine:  False\n",
      "Inf Time:  0\n",
      "Recovery and trans rate:  0.5849207163390189 0.760874768416543\n",
      "---------------------------\n"
     ]
    }
   ],
   "source": [
    "# test case of whether the new location is chosen well. \n",
    "for i in sub.humans[5:10]:\n",
    "    print(i.infected, i.location)\n",
    "    check= i.choose_newlocation()\n",
    "    print('Check Movment: ', check)\n",
    "    print('Infected Neighbours: ', sub.scan(i))\n",
    "    print('If Infected: ', i.infected)\n",
    "    print('Immunity: ', i.immunity)\n",
    "    print('Vaccine: ', i.vaccine)\n",
    "    print('Inf Time: ', i.infected_time)\n",
    "    print('Recovery and trans rate: ', i.recovery_rate, i.transmission_rate)\n",
    "    print('---------------------------')"
   ]
  },
  {
   "cell_type": "code",
   "execution_count": 213,
   "metadata": {},
   "outputs": [
    {
     "ename": "TypeError",
     "evalue": "cannot unpack non-iterable NoneType object",
     "output_type": "error",
     "traceback": [
      "\u001b[0;31m---------------------------------------------------------------------------\u001b[0m",
      "\u001b[0;31mTypeError\u001b[0m                                 Traceback (most recent call last)",
      "\u001b[1;32m/Users/dan/University/ComputationalModeling/project/project.ipynb Cell 13\u001b[0m line \u001b[0;36m2\n\u001b[1;32m      <a href='vscode-notebook-cell:/Users/dan/University/ComputationalModeling/project/project.ipynb#X25sZmlsZQ%3D%3D?line=0'>1</a>\u001b[0m \u001b[39mfor\u001b[39;00m i \u001b[39min\u001b[39;00m sub\u001b[39m.\u001b[39mhumans[\u001b[39m10\u001b[39m:\u001b[39m20\u001b[39m]:\n\u001b[0;32m----> <a href='vscode-notebook-cell:/Users/dan/University/ComputationalModeling/project/project.ipynb#X25sZmlsZQ%3D%3D?line=1'>2</a>\u001b[0m     infected, immunity, infected_time, chance_recovery \u001b[39m=\u001b[39m i\u001b[39m.\u001b[39mrecovery()\n\u001b[1;32m      <a href='vscode-notebook-cell:/Users/dan/University/ComputationalModeling/project/project.ipynb#X25sZmlsZQ%3D%3D?line=2'>3</a>\u001b[0m     \u001b[39mprint\u001b[39m(\u001b[39m'\u001b[39m\u001b[39mInfected: \u001b[39m\u001b[39m'\u001b[39m, infected)\n\u001b[1;32m      <a href='vscode-notebook-cell:/Users/dan/University/ComputationalModeling/project/project.ipynb#X25sZmlsZQ%3D%3D?line=3'>4</a>\u001b[0m     \u001b[39mprint\u001b[39m(\u001b[39m'\u001b[39m\u001b[39mImmunity: \u001b[39m\u001b[39m'\u001b[39m, immunity)\n",
      "\u001b[0;31mTypeError\u001b[0m: cannot unpack non-iterable NoneType object"
     ]
    }
   ],
   "source": [
    "for i in sub.humans[10:20]:\n",
    "    infected, immunity, infected_time, chance_recovery = i.recovery()\n",
    "    print('Infected: ', infected)\n",
    "    print('Immunity: ', immunity)\n",
    "    print('Inf Time: ', infected_time)\n",
    "    print('Chance Recovery: ', chance_recovery)"
   ]
  },
  {
   "cell_type": "code",
   "execution_count": 197,
   "metadata": {},
   "outputs": [
    {
     "ename": "TypeError",
     "evalue": "cannot unpack non-iterable NoneType object",
     "output_type": "error",
     "traceback": [
      "\u001b[0;31m---------------------------------------------------------------------------\u001b[0m",
      "\u001b[0;31mTypeError\u001b[0m                                 Traceback (most recent call last)",
      "\u001b[1;32m/Users/dan/University/ComputationalModeling/project/project.ipynb Cell 13\u001b[0m line \u001b[0;36m3\n\u001b[1;32m      <a href='vscode-notebook-cell:/Users/dan/University/ComputationalModeling/project/project.ipynb#X31sZmlsZQ%3D%3D?line=0'>1</a>\u001b[0m \u001b[39m# test the infect function\u001b[39;00m\n\u001b[1;32m      <a href='vscode-notebook-cell:/Users/dan/University/ComputationalModeling/project/project.ipynb#X31sZmlsZQ%3D%3D?line=1'>2</a>\u001b[0m \u001b[39mfor\u001b[39;00m i \u001b[39min\u001b[39;00m sub\u001b[39m.\u001b[39mhumans[\u001b[39m10\u001b[39m:\u001b[39m20\u001b[39m]:\n\u001b[0;32m----> <a href='vscode-notebook-cell:/Users/dan/University/ComputationalModeling/project/project.ipynb#X31sZmlsZQ%3D%3D?line=2'>3</a>\u001b[0m     n_inf, infected, transmission_rate, adjusted_chance_infection, chance_infection \u001b[39m=\u001b[39m i\u001b[39m.\u001b[39minfect(sub\u001b[39m.\u001b[39mscan(i))\n\u001b[1;32m      <a href='vscode-notebook-cell:/Users/dan/University/ComputationalModeling/project/project.ipynb#X31sZmlsZQ%3D%3D?line=3'>4</a>\u001b[0m     \u001b[39mprint\u001b[39m(\u001b[39m'\u001b[39m\u001b[39mInfected: \u001b[39m\u001b[39m'\u001b[39m, infected)\n\u001b[1;32m      <a href='vscode-notebook-cell:/Users/dan/University/ComputationalModeling/project/project.ipynb#X31sZmlsZQ%3D%3D?line=4'>5</a>\u001b[0m     \u001b[39mprint\u001b[39m(\u001b[39m'\u001b[39m\u001b[39mTransmission Rate: \u001b[39m\u001b[39m'\u001b[39m, transmission_rate)\n",
      "\u001b[0;31mTypeError\u001b[0m: cannot unpack non-iterable NoneType object"
     ]
    }
   ],
   "source": [
    "# test the infect function\n",
    "for i in sub.humans[10:20]:\n",
    "    n_inf, infected, transmission_rate, adjusted_chance_infection, chance_infection = i.infect(sub.scan(i))\n",
    "    print('Infected: ', infected)\n",
    "    print('Transmission Rate: ', transmission_rate)\n",
    "    print('Adjusted Chance Infection: ', adjusted_chance_infection)\n",
    "    print('Chance Infection: ', chance_infection)\n",
    "    print('Number Infected: ', n_inf)\n",
    "    print('---------------------------')"
   ]
  },
  {
   "cell_type": "code",
   "execution_count": 279,
   "metadata": {},
   "outputs": [
    {
     "name": "stdout",
     "output_type": "stream",
     "text": [
      "Human:  219\n",
      "Location:  (32, 13)\n",
      "Decision:  0\n",
      "New Location:  (32, 13)\n",
      "Human:  123\n",
      "Location:  (33, 6)\n",
      "Decision:  0\n",
      "New Location:  (33, 6)\n",
      "Human:  252\n",
      "Location:  (49, 27)\n",
      "Decision:  1\n",
      "New Location:  (14, 47)\n",
      "Human:  495\n",
      "Location:  (28, 14)\n",
      "Decision:  0\n",
      "New Location:  (28, 14)\n",
      "Human:  465\n",
      "Location:  (3, 12)\n",
      "Decision:  1\n",
      "New Location:  (44, 26)\n"
     ]
    }
   ],
   "source": [
    "# randomly select 5 humans to test:\n",
    "for i in range(5):\n",
    "    o = np.random.randint(0, len(sub.humans))\n",
    "    human = sub.humans[o]\n",
    "    print('Human: ', o)\n",
    "    print('Location: ', human.location)\n",
    "    sub.move(human)\n",
    "    print('Decision: ', human.decision)\n",
    "    print('New Location: ', human.location)"
   ]
  },
  {
   "cell_type": "code",
   "execution_count": 295,
   "metadata": {},
   "outputs": [
    {
     "name": "stdout",
     "output_type": "stream",
     "text": [
      "(41, 37)\n",
      "1\n"
     ]
    },
    {
     "data": {
      "image/png": "[encoded data removed]",
      "text/plain": [
       "<Figure size 640x480 with 1 Axes>"
      ]
     },
     "metadata": {},
     "output_type": "display_data"
    }
   ],
   "source": [
    "# check if the neighbours are being found correctly\n",
    "def check_grid_infect():\n",
    "    human = sub.humans[np.random.randint(0, len(sub.humans))]\n",
    "    hx, hy = human.location[0], human.location[1]\n",
    "    print(human.location)\n",
    "    print(sub.scan(human))\n",
    "    init = sub.grid[hx,hy] \n",
    "    sub.grid[hx,hy] = 4\n",
    "    plt.imshow(sub.grid, cmap=cmap, norm=norm, interpolation='nearest', alpha=0.7)\n",
    "    plt.show()\n",
    "    sub.grid[hx,hy] = init\n",
    "\n",
    "check_grid_infect()"
   ]
  },
  {
   "cell_type": "code",
   "execution_count": 217,
   "metadata": {},
   "outputs": [
    {
     "data": {
      "image/png": "[encoded data removed]",
      "text/plain": [
       "<Figure size 640x480 with 1 Axes>"
      ]
     },
     "metadata": {},
     "output_type": "display_data"
    }
   ],
   "source": [
    "\n",
    "plt.imshow(sub.grid, cmap=cmap, norm=norm, interpolation='nearest', alpha=0.7)\n",
    "plt.show()"
   ]
  }
 ],
 "metadata": {
  "kernelspec": {
   "display_name": "Python 3",
   "language": "python",
   "name": "python3"
  },
  "language_info": {
   "codemirror_mode": {
    "name": "ipython",
    "version": 3
   },
   "file_extension": ".py",
   "mimetype": "text/x-python",
   "name": "python",
   "nbconvert_exporter": "python",
   "pygments_lexer": "ipython3",
   "version": "3.11.4"
  },
  "orig_nbformat": 4
 },
 "nbformat": 4,
 "nbformat_minor": 2
}
